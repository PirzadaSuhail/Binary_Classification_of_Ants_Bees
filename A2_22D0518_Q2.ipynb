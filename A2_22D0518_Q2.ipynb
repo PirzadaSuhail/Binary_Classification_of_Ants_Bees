{
  "nbformat": 4,
  "nbformat_minor": 0,
  "metadata": {
    "colab": {
      "provenance": []
    },
    "kernelspec": {
      "name": "python3",
      "display_name": "Python 3"
    },
    "language_info": {
      "name": "python"
    },
    "widgets": {
      "application/vnd.jupyter.widget-state+json": {
        "942e3723c69b498593bfcdbd6cbfce08": {
          "model_module": "@jupyter-widgets/controls",
          "model_name": "HBoxModel",
          "model_module_version": "1.5.0",
          "state": {
            "_dom_classes": [],
            "_model_module": "@jupyter-widgets/controls",
            "_model_module_version": "1.5.0",
            "_model_name": "HBoxModel",
            "_view_count": null,
            "_view_module": "@jupyter-widgets/controls",
            "_view_module_version": "1.5.0",
            "_view_name": "HBoxView",
            "box_style": "",
            "children": [
              "IPY_MODEL_9e7ff1880edf4a649bd8950a62c0461a",
              "IPY_MODEL_0451114911c94e9db7ae254ef978fea0",
              "IPY_MODEL_3b58d8045725456897a5cc076e14e7ff"
            ],
            "layout": "IPY_MODEL_6af7632ff1da48a290f70cae23df17eb"
          }
        },
        "9e7ff1880edf4a649bd8950a62c0461a": {
          "model_module": "@jupyter-widgets/controls",
          "model_name": "HTMLModel",
          "model_module_version": "1.5.0",
          "state": {
            "_dom_classes": [],
            "_model_module": "@jupyter-widgets/controls",
            "_model_module_version": "1.5.0",
            "_model_name": "HTMLModel",
            "_view_count": null,
            "_view_module": "@jupyter-widgets/controls",
            "_view_module_version": "1.5.0",
            "_view_name": "HTMLView",
            "description": "",
            "description_tooltip": null,
            "layout": "IPY_MODEL_3c5e206f01bd4e599b29c6957c3a4a27",
            "placeholder": "​",
            "style": "IPY_MODEL_0d5701dfd5b54b82bbd7c8e30b4ab942",
            "value": "100%"
          }
        },
        "0451114911c94e9db7ae254ef978fea0": {
          "model_module": "@jupyter-widgets/controls",
          "model_name": "FloatProgressModel",
          "model_module_version": "1.5.0",
          "state": {
            "_dom_classes": [],
            "_model_module": "@jupyter-widgets/controls",
            "_model_module_version": "1.5.0",
            "_model_name": "FloatProgressModel",
            "_view_count": null,
            "_view_module": "@jupyter-widgets/controls",
            "_view_module_version": "1.5.0",
            "_view_name": "ProgressView",
            "bar_style": "success",
            "description": "",
            "description_tooltip": null,
            "layout": "IPY_MODEL_95efee1f69194d179ccaa9a175becb2e",
            "max": 46830571,
            "min": 0,
            "orientation": "horizontal",
            "style": "IPY_MODEL_87719357617640708136ff97deba46ce",
            "value": 46830571
          }
        },
        "3b58d8045725456897a5cc076e14e7ff": {
          "model_module": "@jupyter-widgets/controls",
          "model_name": "HTMLModel",
          "model_module_version": "1.5.0",
          "state": {
            "_dom_classes": [],
            "_model_module": "@jupyter-widgets/controls",
            "_model_module_version": "1.5.0",
            "_model_name": "HTMLModel",
            "_view_count": null,
            "_view_module": "@jupyter-widgets/controls",
            "_view_module_version": "1.5.0",
            "_view_name": "HTMLView",
            "description": "",
            "description_tooltip": null,
            "layout": "IPY_MODEL_4aa79b7c2f134522974308a5800c8c04",
            "placeholder": "​",
            "style": "IPY_MODEL_95a09385982a44de94c0ebff92a98463",
            "value": " 44.7M/44.7M [00:00&lt;00:00, 79.7MB/s]"
          }
        },
        "6af7632ff1da48a290f70cae23df17eb": {
          "model_module": "@jupyter-widgets/base",
          "model_name": "LayoutModel",
          "model_module_version": "1.2.0",
          "state": {
            "_model_module": "@jupyter-widgets/base",
            "_model_module_version": "1.2.0",
            "_model_name": "LayoutModel",
            "_view_count": null,
            "_view_module": "@jupyter-widgets/base",
            "_view_module_version": "1.2.0",
            "_view_name": "LayoutView",
            "align_content": null,
            "align_items": null,
            "align_self": null,
            "border": null,
            "bottom": null,
            "display": null,
            "flex": null,
            "flex_flow": null,
            "grid_area": null,
            "grid_auto_columns": null,
            "grid_auto_flow": null,
            "grid_auto_rows": null,
            "grid_column": null,
            "grid_gap": null,
            "grid_row": null,
            "grid_template_areas": null,
            "grid_template_columns": null,
            "grid_template_rows": null,
            "height": null,
            "justify_content": null,
            "justify_items": null,
            "left": null,
            "margin": null,
            "max_height": null,
            "max_width": null,
            "min_height": null,
            "min_width": null,
            "object_fit": null,
            "object_position": null,
            "order": null,
            "overflow": null,
            "overflow_x": null,
            "overflow_y": null,
            "padding": null,
            "right": null,
            "top": null,
            "visibility": null,
            "width": null
          }
        },
        "3c5e206f01bd4e599b29c6957c3a4a27": {
          "model_module": "@jupyter-widgets/base",
          "model_name": "LayoutModel",
          "model_module_version": "1.2.0",
          "state": {
            "_model_module": "@jupyter-widgets/base",
            "_model_module_version": "1.2.0",
            "_model_name": "LayoutModel",
            "_view_count": null,
            "_view_module": "@jupyter-widgets/base",
            "_view_module_version": "1.2.0",
            "_view_name": "LayoutView",
            "align_content": null,
            "align_items": null,
            "align_self": null,
            "border": null,
            "bottom": null,
            "display": null,
            "flex": null,
            "flex_flow": null,
            "grid_area": null,
            "grid_auto_columns": null,
            "grid_auto_flow": null,
            "grid_auto_rows": null,
            "grid_column": null,
            "grid_gap": null,
            "grid_row": null,
            "grid_template_areas": null,
            "grid_template_columns": null,
            "grid_template_rows": null,
            "height": null,
            "justify_content": null,
            "justify_items": null,
            "left": null,
            "margin": null,
            "max_height": null,
            "max_width": null,
            "min_height": null,
            "min_width": null,
            "object_fit": null,
            "object_position": null,
            "order": null,
            "overflow": null,
            "overflow_x": null,
            "overflow_y": null,
            "padding": null,
            "right": null,
            "top": null,
            "visibility": null,
            "width": null
          }
        },
        "0d5701dfd5b54b82bbd7c8e30b4ab942": {
          "model_module": "@jupyter-widgets/controls",
          "model_name": "DescriptionStyleModel",
          "model_module_version": "1.5.0",
          "state": {
            "_model_module": "@jupyter-widgets/controls",
            "_model_module_version": "1.5.0",
            "_model_name": "DescriptionStyleModel",
            "_view_count": null,
            "_view_module": "@jupyter-widgets/base",
            "_view_module_version": "1.2.0",
            "_view_name": "StyleView",
            "description_width": ""
          }
        },
        "95efee1f69194d179ccaa9a175becb2e": {
          "model_module": "@jupyter-widgets/base",
          "model_name": "LayoutModel",
          "model_module_version": "1.2.0",
          "state": {
            "_model_module": "@jupyter-widgets/base",
            "_model_module_version": "1.2.0",
            "_model_name": "LayoutModel",
            "_view_count": null,
            "_view_module": "@jupyter-widgets/base",
            "_view_module_version": "1.2.0",
            "_view_name": "LayoutView",
            "align_content": null,
            "align_items": null,
            "align_self": null,
            "border": null,
            "bottom": null,
            "display": null,
            "flex": null,
            "flex_flow": null,
            "grid_area": null,
            "grid_auto_columns": null,
            "grid_auto_flow": null,
            "grid_auto_rows": null,
            "grid_column": null,
            "grid_gap": null,
            "grid_row": null,
            "grid_template_areas": null,
            "grid_template_columns": null,
            "grid_template_rows": null,
            "height": null,
            "justify_content": null,
            "justify_items": null,
            "left": null,
            "margin": null,
            "max_height": null,
            "max_width": null,
            "min_height": null,
            "min_width": null,
            "object_fit": null,
            "object_position": null,
            "order": null,
            "overflow": null,
            "overflow_x": null,
            "overflow_y": null,
            "padding": null,
            "right": null,
            "top": null,
            "visibility": null,
            "width": null
          }
        },
        "87719357617640708136ff97deba46ce": {
          "model_module": "@jupyter-widgets/controls",
          "model_name": "ProgressStyleModel",
          "model_module_version": "1.5.0",
          "state": {
            "_model_module": "@jupyter-widgets/controls",
            "_model_module_version": "1.5.0",
            "_model_name": "ProgressStyleModel",
            "_view_count": null,
            "_view_module": "@jupyter-widgets/base",
            "_view_module_version": "1.2.0",
            "_view_name": "StyleView",
            "bar_color": null,
            "description_width": ""
          }
        },
        "4aa79b7c2f134522974308a5800c8c04": {
          "model_module": "@jupyter-widgets/base",
          "model_name": "LayoutModel",
          "model_module_version": "1.2.0",
          "state": {
            "_model_module": "@jupyter-widgets/base",
            "_model_module_version": "1.2.0",
            "_model_name": "LayoutModel",
            "_view_count": null,
            "_view_module": "@jupyter-widgets/base",
            "_view_module_version": "1.2.0",
            "_view_name": "LayoutView",
            "align_content": null,
            "align_items": null,
            "align_self": null,
            "border": null,
            "bottom": null,
            "display": null,
            "flex": null,
            "flex_flow": null,
            "grid_area": null,
            "grid_auto_columns": null,
            "grid_auto_flow": null,
            "grid_auto_rows": null,
            "grid_column": null,
            "grid_gap": null,
            "grid_row": null,
            "grid_template_areas": null,
            "grid_template_columns": null,
            "grid_template_rows": null,
            "height": null,
            "justify_content": null,
            "justify_items": null,
            "left": null,
            "margin": null,
            "max_height": null,
            "max_width": null,
            "min_height": null,
            "min_width": null,
            "object_fit": null,
            "object_position": null,
            "order": null,
            "overflow": null,
            "overflow_x": null,
            "overflow_y": null,
            "padding": null,
            "right": null,
            "top": null,
            "visibility": null,
            "width": null
          }
        },
        "95a09385982a44de94c0ebff92a98463": {
          "model_module": "@jupyter-widgets/controls",
          "model_name": "DescriptionStyleModel",
          "model_module_version": "1.5.0",
          "state": {
            "_model_module": "@jupyter-widgets/controls",
            "_model_module_version": "1.5.0",
            "_model_name": "DescriptionStyleModel",
            "_view_count": null,
            "_view_module": "@jupyter-widgets/base",
            "_view_module_version": "1.2.0",
            "_view_name": "StyleView",
            "description_width": ""
          }
        },
        "9ce0b550fa6e4865bbbcdbc782b9080a": {
          "model_module": "@jupyter-widgets/controls",
          "model_name": "HBoxModel",
          "model_module_version": "1.5.0",
          "state": {
            "_dom_classes": [],
            "_model_module": "@jupyter-widgets/controls",
            "_model_module_version": "1.5.0",
            "_model_name": "HBoxModel",
            "_view_count": null,
            "_view_module": "@jupyter-widgets/controls",
            "_view_module_version": "1.5.0",
            "_view_name": "HBoxView",
            "box_style": "",
            "children": [
              "IPY_MODEL_db5f2186daa14183983b0b55dc7acf2d",
              "IPY_MODEL_391030c1895e471b9c2352da7d2d7c7f",
              "IPY_MODEL_deb65e641cfc40e8a375241135fbf708"
            ],
            "layout": "IPY_MODEL_b21a4bfea39243f39ceec9cbedc85db3"
          }
        },
        "db5f2186daa14183983b0b55dc7acf2d": {
          "model_module": "@jupyter-widgets/controls",
          "model_name": "HTMLModel",
          "model_module_version": "1.5.0",
          "state": {
            "_dom_classes": [],
            "_model_module": "@jupyter-widgets/controls",
            "_model_module_version": "1.5.0",
            "_model_name": "HTMLModel",
            "_view_count": null,
            "_view_module": "@jupyter-widgets/controls",
            "_view_module_version": "1.5.0",
            "_view_name": "HTMLView",
            "description": "",
            "description_tooltip": null,
            "layout": "IPY_MODEL_82a3fe285ae14f189814f71506a03854",
            "placeholder": "​",
            "style": "IPY_MODEL_ff7ad7df1c1d45808500f31e11160d8a",
            "value": "100%"
          }
        },
        "391030c1895e471b9c2352da7d2d7c7f": {
          "model_module": "@jupyter-widgets/controls",
          "model_name": "FloatProgressModel",
          "model_module_version": "1.5.0",
          "state": {
            "_dom_classes": [],
            "_model_module": "@jupyter-widgets/controls",
            "_model_module_version": "1.5.0",
            "_model_name": "FloatProgressModel",
            "_view_count": null,
            "_view_module": "@jupyter-widgets/controls",
            "_view_module_version": "1.5.0",
            "_view_name": "ProgressView",
            "bar_style": "success",
            "description": "",
            "description_tooltip": null,
            "layout": "IPY_MODEL_ca050a380cc64833a4e39e064b84ade9",
            "max": 46830571,
            "min": 0,
            "orientation": "horizontal",
            "style": "IPY_MODEL_c0823f2312934abe86586d91cadd18fa",
            "value": 46830571
          }
        },
        "deb65e641cfc40e8a375241135fbf708": {
          "model_module": "@jupyter-widgets/controls",
          "model_name": "HTMLModel",
          "model_module_version": "1.5.0",
          "state": {
            "_dom_classes": [],
            "_model_module": "@jupyter-widgets/controls",
            "_model_module_version": "1.5.0",
            "_model_name": "HTMLModel",
            "_view_count": null,
            "_view_module": "@jupyter-widgets/controls",
            "_view_module_version": "1.5.0",
            "_view_name": "HTMLView",
            "description": "",
            "description_tooltip": null,
            "layout": "IPY_MODEL_9f72f4fe2345485ab323070f5ab7813c",
            "placeholder": "​",
            "style": "IPY_MODEL_12d9be9706c14898a3421d5aa65b82ec",
            "value": " 44.7M/44.7M [00:00&lt;00:00, 174MB/s]"
          }
        },
        "b21a4bfea39243f39ceec9cbedc85db3": {
          "model_module": "@jupyter-widgets/base",
          "model_name": "LayoutModel",
          "model_module_version": "1.2.0",
          "state": {
            "_model_module": "@jupyter-widgets/base",
            "_model_module_version": "1.2.0",
            "_model_name": "LayoutModel",
            "_view_count": null,
            "_view_module": "@jupyter-widgets/base",
            "_view_module_version": "1.2.0",
            "_view_name": "LayoutView",
            "align_content": null,
            "align_items": null,
            "align_self": null,
            "border": null,
            "bottom": null,
            "display": null,
            "flex": null,
            "flex_flow": null,
            "grid_area": null,
            "grid_auto_columns": null,
            "grid_auto_flow": null,
            "grid_auto_rows": null,
            "grid_column": null,
            "grid_gap": null,
            "grid_row": null,
            "grid_template_areas": null,
            "grid_template_columns": null,
            "grid_template_rows": null,
            "height": null,
            "justify_content": null,
            "justify_items": null,
            "left": null,
            "margin": null,
            "max_height": null,
            "max_width": null,
            "min_height": null,
            "min_width": null,
            "object_fit": null,
            "object_position": null,
            "order": null,
            "overflow": null,
            "overflow_x": null,
            "overflow_y": null,
            "padding": null,
            "right": null,
            "top": null,
            "visibility": null,
            "width": null
          }
        },
        "82a3fe285ae14f189814f71506a03854": {
          "model_module": "@jupyter-widgets/base",
          "model_name": "LayoutModel",
          "model_module_version": "1.2.0",
          "state": {
            "_model_module": "@jupyter-widgets/base",
            "_model_module_version": "1.2.0",
            "_model_name": "LayoutModel",
            "_view_count": null,
            "_view_module": "@jupyter-widgets/base",
            "_view_module_version": "1.2.0",
            "_view_name": "LayoutView",
            "align_content": null,
            "align_items": null,
            "align_self": null,
            "border": null,
            "bottom": null,
            "display": null,
            "flex": null,
            "flex_flow": null,
            "grid_area": null,
            "grid_auto_columns": null,
            "grid_auto_flow": null,
            "grid_auto_rows": null,
            "grid_column": null,
            "grid_gap": null,
            "grid_row": null,
            "grid_template_areas": null,
            "grid_template_columns": null,
            "grid_template_rows": null,
            "height": null,
            "justify_content": null,
            "justify_items": null,
            "left": null,
            "margin": null,
            "max_height": null,
            "max_width": null,
            "min_height": null,
            "min_width": null,
            "object_fit": null,
            "object_position": null,
            "order": null,
            "overflow": null,
            "overflow_x": null,
            "overflow_y": null,
            "padding": null,
            "right": null,
            "top": null,
            "visibility": null,
            "width": null
          }
        },
        "ff7ad7df1c1d45808500f31e11160d8a": {
          "model_module": "@jupyter-widgets/controls",
          "model_name": "DescriptionStyleModel",
          "model_module_version": "1.5.0",
          "state": {
            "_model_module": "@jupyter-widgets/controls",
            "_model_module_version": "1.5.0",
            "_model_name": "DescriptionStyleModel",
            "_view_count": null,
            "_view_module": "@jupyter-widgets/base",
            "_view_module_version": "1.2.0",
            "_view_name": "StyleView",
            "description_width": ""
          }
        },
        "ca050a380cc64833a4e39e064b84ade9": {
          "model_module": "@jupyter-widgets/base",
          "model_name": "LayoutModel",
          "model_module_version": "1.2.0",
          "state": {
            "_model_module": "@jupyter-widgets/base",
            "_model_module_version": "1.2.0",
            "_model_name": "LayoutModel",
            "_view_count": null,
            "_view_module": "@jupyter-widgets/base",
            "_view_module_version": "1.2.0",
            "_view_name": "LayoutView",
            "align_content": null,
            "align_items": null,
            "align_self": null,
            "border": null,
            "bottom": null,
            "display": null,
            "flex": null,
            "flex_flow": null,
            "grid_area": null,
            "grid_auto_columns": null,
            "grid_auto_flow": null,
            "grid_auto_rows": null,
            "grid_column": null,
            "grid_gap": null,
            "grid_row": null,
            "grid_template_areas": null,
            "grid_template_columns": null,
            "grid_template_rows": null,
            "height": null,
            "justify_content": null,
            "justify_items": null,
            "left": null,
            "margin": null,
            "max_height": null,
            "max_width": null,
            "min_height": null,
            "min_width": null,
            "object_fit": null,
            "object_position": null,
            "order": null,
            "overflow": null,
            "overflow_x": null,
            "overflow_y": null,
            "padding": null,
            "right": null,
            "top": null,
            "visibility": null,
            "width": null
          }
        },
        "c0823f2312934abe86586d91cadd18fa": {
          "model_module": "@jupyter-widgets/controls",
          "model_name": "ProgressStyleModel",
          "model_module_version": "1.5.0",
          "state": {
            "_model_module": "@jupyter-widgets/controls",
            "_model_module_version": "1.5.0",
            "_model_name": "ProgressStyleModel",
            "_view_count": null,
            "_view_module": "@jupyter-widgets/base",
            "_view_module_version": "1.2.0",
            "_view_name": "StyleView",
            "bar_color": null,
            "description_width": ""
          }
        },
        "9f72f4fe2345485ab323070f5ab7813c": {
          "model_module": "@jupyter-widgets/base",
          "model_name": "LayoutModel",
          "model_module_version": "1.2.0",
          "state": {
            "_model_module": "@jupyter-widgets/base",
            "_model_module_version": "1.2.0",
            "_model_name": "LayoutModel",
            "_view_count": null,
            "_view_module": "@jupyter-widgets/base",
            "_view_module_version": "1.2.0",
            "_view_name": "LayoutView",
            "align_content": null,
            "align_items": null,
            "align_self": null,
            "border": null,
            "bottom": null,
            "display": null,
            "flex": null,
            "flex_flow": null,
            "grid_area": null,
            "grid_auto_columns": null,
            "grid_auto_flow": null,
            "grid_auto_rows": null,
            "grid_column": null,
            "grid_gap": null,
            "grid_row": null,
            "grid_template_areas": null,
            "grid_template_columns": null,
            "grid_template_rows": null,
            "height": null,
            "justify_content": null,
            "justify_items": null,
            "left": null,
            "margin": null,
            "max_height": null,
            "max_width": null,
            "min_height": null,
            "min_width": null,
            "object_fit": null,
            "object_position": null,
            "order": null,
            "overflow": null,
            "overflow_x": null,
            "overflow_y": null,
            "padding": null,
            "right": null,
            "top": null,
            "visibility": null,
            "width": null
          }
        },
        "12d9be9706c14898a3421d5aa65b82ec": {
          "model_module": "@jupyter-widgets/controls",
          "model_name": "DescriptionStyleModel",
          "model_module_version": "1.5.0",
          "state": {
            "_model_module": "@jupyter-widgets/controls",
            "_model_module_version": "1.5.0",
            "_model_name": "DescriptionStyleModel",
            "_view_count": null,
            "_view_module": "@jupyter-widgets/base",
            "_view_module_version": "1.2.0",
            "_view_name": "StyleView",
            "description_width": ""
          }
        }
      }
    }
  },
  "cells": [
    {
      "cell_type": "code",
      "execution_count": 1,
      "metadata": {
        "colab": {
          "base_uri": "https://localhost:8080/"
        },
        "id": "IMnD9d0mN5dI",
        "outputId": "4f8153f3-10f3-4f53-9774-e8e7f8fcce8f"
      },
      "outputs": [
        {
          "output_type": "stream",
          "name": "stdout",
          "text": [
            "Mounted at /content/drive\n"
          ]
        }
      ],
      "source": [
        "from google.colab import drive\n",
        "drive.mount('/content/drive')"
      ]
    },
    {
      "cell_type": "markdown",
      "source": [
        "9. Read the pytorch tutorial to use a pre-trained “ConvNet as fixed feature extractor” from https://pytorch.org/tutorials/beginner/transfer_learning_tutorial.html and you can ignore “finetuning the ConvNet”. Test this code out to see if it runs properly in your environment after eliminating code blocks that you do not need. [2]"
      ],
      "metadata": {
        "id": "do6u0K3Y2TQj"
      }
    },
    {
      "cell_type": "code",
      "source": [
        "from __future__ import print_function, division\n",
        "import torch\n",
        "import torch.nn as nn\n",
        "import torch.optim as optim\n",
        "from torch.optim import lr_scheduler\n",
        "import torch.backends.cudnn as cudnn\n",
        "import numpy as np\n",
        "import torchvision\n",
        "from torchvision import datasets, models, transforms\n",
        "import matplotlib.pyplot as plt\n",
        "import time\n",
        "import os\n",
        "import copy\n",
        "import torchvision.models as models\n",
        "from torch.utils.data import DataLoader\n",
        "import torchvision.transforms as transforms\n",
        "from torchvision.datasets import ImageFolder\n",
        "cudnn.benchmark = True\n",
        "plt.ion()"
      ],
      "metadata": {
        "colab": {
          "base_uri": "https://localhost:8080/"
        },
        "id": "s44pmBGYPlQx",
        "outputId": "5b4c94ce-f172-4ac2-c2f6-c0145315665e"
      },
      "execution_count": 2,
      "outputs": [
        {
          "output_type": "execute_result",
          "data": {
            "text/plain": [
              "<matplotlib.pyplot._IonContext at 0x7f23651cf5e0>"
            ]
          },
          "metadata": {},
          "execution_count": 2
        }
      ]
    },
    {
      "cell_type": "markdown",
      "source": [
        "Data Loader"
      ],
      "metadata": {
        "id": "TjTyUDBWlDGa"
      }
    },
    {
      "cell_type": "code",
      "source": [
        "data_transforms = {\n",
        "    'train': transforms.Compose([\n",
        "        transforms.RandomResizedCrop(224),\n",
        "        transforms.RandomHorizontalFlip(),\n",
        "        transforms.ToTensor(),\n",
        "        transforms.Normalize([0.485, 0.456, 0.406], [0.229, 0.224, 0.225])\n",
        "    ]),\n",
        "    'val': transforms.Compose([\n",
        "        transforms.Resize(256),\n",
        "        transforms.CenterCrop(224),\n",
        "        transforms.ToTensor(),\n",
        "        transforms.Normalize([0.485, 0.456, 0.406], [0.229, 0.224, 0.225])\n",
        "    ]),\n",
        "}\n",
        "\n",
        "data_dir = '/content/drive/MyDrive/data/hymenoptera_data'\n",
        "image_datasets = {x: datasets.ImageFolder(os.path.join(data_dir, x),\n",
        "                                          data_transforms[x])\n",
        "                  for x in ['train', 'val']}\n",
        "dataloaders = {x: torch.utils.data.DataLoader(image_datasets[x], batch_size=4,\n",
        "                                             shuffle=True, num_workers=2)\n",
        "              for x in ['train', 'val']}\n",
        "dataset_sizes = {x: len(image_datasets[x]) for x in ['train', 'val']}\n",
        "print(dataset_sizes)\n",
        "class_names = image_datasets['train'].classes\n",
        "print(class_names)\n",
        "device = torch.device(\"cuda:0\" if torch.cuda.is_available() else \"cpu\")\n",
        "print(device)"
      ],
      "metadata": {
        "colab": {
          "base_uri": "https://localhost:8080/"
        },
        "id": "CsMlmg3JTKCn",
        "outputId": "e3e8fe5e-eb45-4b39-f5df-aebbbbfe0443"
      },
      "execution_count": null,
      "outputs": [
        {
          "output_type": "stream",
          "name": "stdout",
          "text": [
            "{'train': 244, 'val': 153}\n",
            "['ants', 'bees']\n",
            "cpu\n"
          ]
        }
      ]
    },
    {
      "cell_type": "markdown",
      "source": [
        "Data Visualisation"
      ],
      "metadata": {
        "id": "M2BzY-pUk9_H"
      }
    },
    {
      "cell_type": "code",
      "source": [
        "def imshow(inp, title=None):\n",
        "    \"\"\"Imshow for Tensor.\"\"\"\n",
        "    inp = inp.numpy().transpose((1, 2, 0))\n",
        "    mean = np.array([0.485, 0.456, 0.406])\n",
        "    std = np.array([0.229, 0.224, 0.225])\n",
        "    inp = std * inp + mean\n",
        "    inp = np.clip(inp, 0, 1)\n",
        "    plt.imshow(inp)\n",
        "    if title is not None:\n",
        "        plt.title(title)\n",
        "    plt.pause(0.001)  # pause a bit so that plots are updated\n",
        "\n",
        "\n",
        "# Get a batch of training data\n",
        "inputs, classes = next(iter(dataloaders['train']))\n",
        "\n",
        "# Make a grid from batch\n",
        "out = torchvision.utils.make_grid(inputs)\n",
        "\n",
        "imshow(out, title=[class_names[x] for x in classes])"
      ],
      "metadata": {
        "colab": {
          "base_uri": "https://localhost:8080/",
          "height": 148
        },
        "id": "YoxR2EiQknZB",
        "outputId": "8299a571-004a-49d2-bbbe-4e241e787713"
      },
      "execution_count": null,
      "outputs": [
        {
          "output_type": "display_data",
          "data": {
            "text/plain": [
              "<Figure size 432x288 with 1 Axes>"
            ],
            "image/png": "[encoded data removed]"
          },
          "metadata": {
            "needs_background": "light"
          }
        }
      ]
    },
    {
      "cell_type": "markdown",
      "source": [
        "Model Training"
      ],
      "metadata": {
        "id": "9DU58p9NlKIM"
      }
    },
    {
      "cell_type": "code",
      "source": [
        "def train_model(model, criterion, optimizer, scheduler, num_epochs=25):\n",
        "    since = time.time()\n",
        "\n",
        "    best_model_wts = copy.deepcopy(model.state_dict())\n",
        "    best_acc = 0.0\n",
        "\n",
        "    for epoch in range(num_epochs):\n",
        "        print(f'Epoch {epoch}/{num_epochs - 1}')\n",
        "        print('-' * 10)\n",
        "\n",
        "        # Each epoch has a training and validation phase\n",
        "        for phase in ['train', 'val']:\n",
        "            if phase == 'train':\n",
        "                model.train()  # Set model to training mode\n",
        "            else:\n",
        "                model.eval()   # Set model to evaluate mode\n",
        "\n",
        "            running_loss = 0.0\n",
        "            running_corrects = 0\n",
        "\n",
        "            # Iterate over data.\n",
        "            for inputs, labels in dataloaders[phase]:\n",
        "                inputs = inputs.to(device)\n",
        "                labels = labels.to(device)\n",
        "\n",
        "                # zero the parameter gradients\n",
        "                optimizer.zero_grad()\n",
        "\n",
        "                # forward\n",
        "                # track history if only in train\n",
        "                with torch.set_grad_enabled(phase == 'train'):\n",
        "                    outputs = model(inputs)\n",
        "                    _, preds = torch.max(outputs, 1)\n",
        "                    loss = criterion(outputs, labels)\n",
        "\n",
        "                    # backward + optimize only if in training phase\n",
        "                    if phase == 'train':\n",
        "                        loss.backward()\n",
        "                        optimizer.step()\n",
        "\n",
        "                # statistics\n",
        "                running_loss += loss.item() * inputs.size(0)\n",
        "                running_corrects += torch.sum(preds == labels.data)\n",
        "            if phase == 'train':\n",
        "                scheduler.step()\n",
        "\n",
        "            epoch_loss = running_loss / dataset_sizes[phase]\n",
        "            epoch_acc = running_corrects.double() / dataset_sizes[phase]\n",
        "\n",
        "            print(f'{phase} Loss: {epoch_loss:.4f} Acc: {epoch_acc:.4f}')\n",
        "\n",
        "            # deep copy the model\n",
        "            if phase == 'val' and epoch_acc > best_acc:\n",
        "                best_acc = epoch_acc\n",
        "                best_model_wts = copy.deepcopy(model.state_dict())\n",
        "\n",
        "        print()\n",
        "\n",
        "    time_elapsed = time.time() - since\n",
        "    print(f'Training complete in {time_elapsed // 60:.0f}m {time_elapsed % 60:.0f}s')\n",
        "    print(f'Best val Acc: {best_acc:4f}')\n",
        "\n",
        "    # load best model weights\n",
        "    model.load_state_dict(best_model_wts)\n",
        "    return model"
      ],
      "metadata": {
        "id": "ZcSecRDokvaS"
      },
      "execution_count": null,
      "outputs": []
    },
    {
      "cell_type": "markdown",
      "source": [
        "Model Visualisation"
      ],
      "metadata": {
        "id": "HgtOqpDLlNji"
      }
    },
    {
      "cell_type": "code",
      "source": [
        "def visualize_model(model, num_images=6):\n",
        "    was_training = model.training\n",
        "    model.eval()\n",
        "    images_so_far = 0\n",
        "    fig = plt.figure()\n",
        "\n",
        "    with torch.no_grad():\n",
        "        for i, (inputs, labels) in enumerate(dataloaders['val']):\n",
        "            inputs = inputs.to(device)\n",
        "            labels = labels.to(device)\n",
        "\n",
        "            outputs = model(inputs)\n",
        "            _, preds = torch.max(outputs, 1)\n",
        "\n",
        "            for j in range(inputs.size()[0]):\n",
        "                images_so_far += 1\n",
        "                ax = plt.subplot(num_images//2, 2, images_so_far)\n",
        "                ax.axis('off')\n",
        "                ax.set_title(f'predicted: {class_names[preds[j]]}')\n",
        "                imshow(inputs.cpu().data[j])\n",
        "\n",
        "                if images_so_far == num_images:\n",
        "                    model.train(mode=was_training)\n",
        "                    return\n",
        "        model.train(mode=was_training)"
      ],
      "metadata": {
        "id": "qDPfh8R7k1uC"
      },
      "execution_count": null,
      "outputs": []
    },
    {
      "cell_type": "markdown",
      "source": [
        "Using ConvNet as a Feature Extractor"
      ],
      "metadata": {
        "id": "c8I1fOM2lal4"
      }
    },
    {
      "cell_type": "code",
      "source": [
        "model_conv = torchvision.models.resnet18(pretrained=True)\n",
        "for param in model_conv.parameters():\n",
        "    param.requires_grad = False\n",
        "\n",
        "num_ftrs = model_conv.fc.in_features\n",
        "model_conv.fc = nn.Linear(num_ftrs, 2)\n",
        "\n",
        "model_conv = model_conv.to(device)\n",
        "\n",
        "criterion = nn.CrossEntropyLoss()\n",
        "\n",
        "optimizer_conv = optim.SGD(model_conv.fc.parameters(), lr=0.001, momentum=0.9)\n",
        "exp_lr_scheduler = lr_scheduler.StepLR(optimizer_conv, step_size=7, gamma=0.1)"
      ],
      "metadata": {
        "colab": {
          "base_uri": "https://localhost:8080/",
          "height": 154,
          "referenced_widgets": [
            "942e3723c69b498593bfcdbd6cbfce08",
            "9e7ff1880edf4a649bd8950a62c0461a",
            "0451114911c94e9db7ae254ef978fea0",
            "3b58d8045725456897a5cc076e14e7ff",
            "6af7632ff1da48a290f70cae23df17eb",
            "3c5e206f01bd4e599b29c6957c3a4a27",
            "0d5701dfd5b54b82bbd7c8e30b4ab942",
            "95efee1f69194d179ccaa9a175becb2e",
            "87719357617640708136ff97deba46ce",
            "4aa79b7c2f134522974308a5800c8c04",
            "95a09385982a44de94c0ebff92a98463"
          ]
        },
        "id": "RQd5mgdHVtGd",
        "outputId": "e6e4a9d0-75c7-4b3a-f3c1-76f8424047ef"
      },
      "execution_count": null,
      "outputs": [
        {
          "output_type": "stream",
          "name": "stderr",
          "text": [
            "/usr/local/lib/python3.9/dist-packages/torchvision/models/_utils.py:208: UserWarning: The parameter 'pretrained' is deprecated since 0.13 and may be removed in the future, please use 'weights' instead.\n",
            "  warnings.warn(\n",
            "/usr/local/lib/python3.9/dist-packages/torchvision/models/_utils.py:223: UserWarning: Arguments other than a weight enum or `None` for 'weights' are deprecated since 0.13 and may be removed in the future. The current behavior is equivalent to passing `weights=ResNet18_Weights.IMAGENET1K_V1`. You can also use `weights=ResNet18_Weights.DEFAULT` to get the most up-to-date weights.\n",
            "  warnings.warn(msg)\n",
            "Downloading: \"https://download.pytorch.org/models/resnet18-f37072fd.pth\" to /root/.cache/torch/hub/checkpoints/resnet18-f37072fd.pth\n"
          ]
        },
        {
          "output_type": "display_data",
          "data": {
            "text/plain": [
              "  0%|          | 0.00/44.7M [00:00<?, ?B/s]"
            ],
            "application/vnd.jupyter.widget-view+json": {
              "version_major": 2,
              "version_minor": 0,
              "model_id": "942e3723c69b498593bfcdbd6cbfce08"
            }
          },
          "metadata": {}
        }
      ]
    },
    {
      "cell_type": "markdown",
      "source": [
        "Now the Model can be trained on the extracted features"
      ],
      "metadata": {
        "id": "QABKflPxmM5A"
      }
    },
    {
      "cell_type": "code",
      "source": [
        "model_conv = train_model(model_conv, criterion, optimizer_conv, exp_lr_scheduler, num_epochs=25)"
      ],
      "metadata": {
        "colab": {
          "base_uri": "https://localhost:8080/"
        },
        "id": "AduDaOu4lq_I",
        "outputId": "863872a7-ad81-4ea5-e29e-8e88a69db578"
      },
      "execution_count": null,
      "outputs": [
        {
          "output_type": "stream",
          "name": "stdout",
          "text": [
            "Epoch 0/24\n",
            "----------\n",
            "train Loss: 0.7456 Acc: 0.5861\n",
            "val Loss: 0.4823 Acc: 0.7124\n",
            "\n",
            "Epoch 1/24\n",
            "----------\n",
            "train Loss: 0.4672 Acc: 0.7910\n",
            "val Loss: 0.1859 Acc: 0.9477\n",
            "\n",
            "Epoch 2/24\n",
            "----------\n",
            "train Loss: 0.4065 Acc: 0.8115\n",
            "val Loss: 0.1700 Acc: 0.9477\n",
            "\n",
            "Epoch 3/24\n",
            "----------\n",
            "train Loss: 0.4848 Acc: 0.8156\n",
            "val Loss: 0.2070 Acc: 0.9412\n",
            "\n",
            "Epoch 4/24\n",
            "----------\n",
            "train Loss: 0.3908 Acc: 0.8402\n",
            "val Loss: 0.1755 Acc: 0.9477\n",
            "\n",
            "Epoch 5/24\n",
            "----------\n",
            "train Loss: 0.4500 Acc: 0.8156\n",
            "val Loss: 0.2823 Acc: 0.8824\n",
            "\n",
            "Epoch 6/24\n",
            "----------\n",
            "train Loss: 0.4740 Acc: 0.7951\n",
            "val Loss: 0.1955 Acc: 0.9412\n",
            "\n",
            "Epoch 7/24\n",
            "----------\n",
            "train Loss: 0.3692 Acc: 0.8238\n",
            "val Loss: 0.1941 Acc: 0.9477\n",
            "\n",
            "Epoch 8/24\n",
            "----------\n",
            "train Loss: 0.3253 Acc: 0.8443\n",
            "val Loss: 0.1963 Acc: 0.9412\n",
            "\n",
            "Epoch 9/24\n",
            "----------\n",
            "train Loss: 0.3770 Acc: 0.8361\n",
            "val Loss: 0.1948 Acc: 0.9477\n",
            "\n",
            "Epoch 10/24\n",
            "----------\n",
            "train Loss: 0.3054 Acc: 0.8770\n",
            "val Loss: 0.2139 Acc: 0.9281\n",
            "\n",
            "Epoch 11/24\n",
            "----------\n",
            "train Loss: 0.4052 Acc: 0.8320\n",
            "val Loss: 0.2020 Acc: 0.9346\n",
            "\n",
            "Epoch 12/24\n",
            "----------\n",
            "train Loss: 0.3262 Acc: 0.8730\n",
            "val Loss: 0.2212 Acc: 0.9346\n",
            "\n",
            "Epoch 13/24\n",
            "----------\n",
            "train Loss: 0.4224 Acc: 0.7828\n",
            "val Loss: 0.2274 Acc: 0.9281\n",
            "\n",
            "Epoch 14/24\n",
            "----------\n",
            "train Loss: 0.3795 Acc: 0.8238\n",
            "val Loss: 0.2082 Acc: 0.9281\n",
            "\n",
            "Epoch 15/24\n",
            "----------\n",
            "train Loss: 0.3481 Acc: 0.8197\n",
            "val Loss: 0.1976 Acc: 0.9346\n",
            "\n",
            "Epoch 16/24\n",
            "----------\n",
            "train Loss: 0.3894 Acc: 0.8238\n",
            "val Loss: 0.1907 Acc: 0.9477\n",
            "\n",
            "Epoch 17/24\n",
            "----------\n",
            "train Loss: 0.4255 Acc: 0.7992\n",
            "val Loss: 0.1930 Acc: 0.9542\n",
            "\n",
            "Epoch 18/24\n",
            "----------\n",
            "train Loss: 0.2672 Acc: 0.8730\n",
            "val Loss: 0.1999 Acc: 0.9477\n",
            "\n",
            "Epoch 19/24\n",
            "----------\n",
            "train Loss: 0.3987 Acc: 0.8156\n",
            "val Loss: 0.1875 Acc: 0.9477\n",
            "\n",
            "Epoch 20/24\n",
            "----------\n",
            "train Loss: 0.3410 Acc: 0.8443\n",
            "val Loss: 0.1998 Acc: 0.9412\n",
            "\n",
            "Epoch 21/24\n",
            "----------\n",
            "train Loss: 0.3770 Acc: 0.8279\n",
            "val Loss: 0.2153 Acc: 0.9216\n",
            "\n",
            "Epoch 22/24\n",
            "----------\n",
            "train Loss: 0.2440 Acc: 0.9180\n",
            "val Loss: 0.2027 Acc: 0.9346\n",
            "\n",
            "Epoch 23/24\n",
            "----------\n",
            "train Loss: 0.2326 Acc: 0.9139\n",
            "val Loss: 0.1992 Acc: 0.9477\n",
            "\n",
            "Epoch 24/24\n",
            "----------\n",
            "train Loss: 0.2751 Acc: 0.8730\n",
            "val Loss: 0.1873 Acc: 0.9477\n",
            "\n",
            "Training complete in 15m 20s\n",
            "Best val Acc: 0.954248\n"
          ]
        }
      ]
    },
    {
      "cell_type": "markdown",
      "source": [
        "Finally the model can be visualised as follows"
      ],
      "metadata": {
        "id": "TH7cZXfOmG7Z"
      }
    },
    {
      "cell_type": "code",
      "source": [
        "visualize_model(model_conv)\n",
        "\n",
        "plt.ioff()\n",
        "plt.show()"
      ],
      "metadata": {
        "colab": {
          "base_uri": "https://localhost:8080/",
          "height": 581
        },
        "id": "l1vDfKJ4mEjP",
        "outputId": "271d46ef-4fcf-4661-ed80-d1e1d29f5b86"
      },
      "execution_count": null,
      "outputs": [
        {
          "output_type": "display_data",
          "data": {
            "text/plain": [
              "<Figure size 432x288 with 1 Axes>"
            ],
            "image/png": "[encoded data removed]"
          },
          "metadata": {
            "needs_background": "light"
          }
        },
        {
          "output_type": "display_data",
          "data": {
            "text/plain": [
              "<Figure size 432x288 with 1 Axes>"
            ],
            "image/png": "[encoded data removed]"
          },
          "metadata": {
            "needs_background": "light"
          }
        },
        {
          "output_type": "display_data",
          "data": {
            "text/plain": [
              "<Figure size 432x288 with 1 Axes>"
            ],
            "image/png": "[encoded data removed]"
          },
          "metadata": {
            "needs_background": "light"
          }
        },
        {
          "output_type": "display_data",
          "data": {
            "text/plain": [
              "<Figure size 432x288 with 1 Axes>"
            ],
            "image/png": "[encoded data removed]"
          },
          "metadata": {
            "needs_background": "light"
          }
        },
        {
          "output_type": "display_data",
          "data": {
            "text/plain": [
              "<Figure size 432x288 with 1 Axes>"
            ],
            "image/png": "[encoded data removed]"
          },
          "metadata": {
            "needs_background": "light"
          }
        },
        {
          "output_type": "display_data",
          "data": {
            "text/plain": [
              "<Figure size 432x288 with 1 Axes>"
            ],
            "image/png": "[encoded data removed]"
          },
          "metadata": {
            "needs_background": "light"
          }
        }
      ]
    },
    {
      "cell_type": "markdown",
      "source": [
        "10. Write a function that outputs ResNet18 features for a given input image. Extract features for training images (in image_datasets['train']). You should get an Nx512 dimensional array. [2]\n",
        "\n",
        "Below Function extracts the features from images and therir corresponding labels from the given data path.\n"
      ],
      "metadata": {
        "id": "q2hkbk2eqDwC"
      }
    },
    {
      "cell_type": "code",
      "source": [
        "def Extract_Resnet18_Features(data_path):\n",
        "    # Define the pretrained  ResNet18 model on Imagenet Dataset\n",
        "    resnet18 = models.resnet18(pretrained=True)\n",
        "\n",
        "    # Remove the last fully connected layer as we are using it just for the purpose of feature extraction\n",
        "    resnet18 = torch.nn.Sequential(*list(resnet18.children())[:-1])\n",
        "\n",
        "    # Set the model to evaluation mode\n",
        "    # to do a forward pass\n",
        "    # and ensure all nodes are active \n",
        "    resnet18.eval()\n",
        "\n",
        "    # Define the image transformations\n",
        "    # Image Transformations resize, crop, & normalise the images by dividing it with Imagenet Mean\n",
        "    # conerting it into a tensor\n",
        "    transform = transforms.Compose([\n",
        "        transforms.Resize(256),\n",
        "        transforms.CenterCrop(224),\n",
        "        transforms.ToTensor(),\n",
        "        transforms.Normalize(mean=[0.485, 0.456, 0.406], std=[0.229, 0.224, 0.225])\n",
        "    ])\n",
        "\n",
        "    # Load the images from the given data path and apply  the  transform \n",
        "    dataset = ImageFolder(data_path, transform)\n",
        "\n",
        "    # Load the data into the pytorch data loader\n",
        "    loader = DataLoader(dataset, batch_size=32, shuffle=False)\n",
        "\n",
        "    # Now features and labels are extracted and stored in arrays\n",
        "    # Extract features from each image and store them in a matrix\n",
        "    # With the accompanying Label of the Image\n",
        "    features = []\n",
        "    labels = []\n",
        "\n",
        "    # itaerate over the entire image dataset \n",
        "    with torch.no_grad():\n",
        "        for images, batch_labels in loader:\n",
        "            # apply resnet on an image\n",
        "            batch_features = resnet18(images).squeeze()\n",
        "            # add the extracted features & labels to the arrays\n",
        "            features.append(batch_features)\n",
        "            labels.append(batch_labels)\n",
        "    features = torch.cat(features, dim=0)\n",
        "    labels = torch.cat(labels, dim=0)\n",
        "\n",
        "    # Function returns a Matrix of features along with corresponding Labels for each Image\n",
        "    return features.numpy(), labels.numpy()"
      ],
      "metadata": {
        "id": "KnpKaof1qMad"
      },
      "execution_count": 3,
      "outputs": []
    },
    {
      "cell_type": "code",
      "source": [
        "# Featur Extraction from the train folder\n",
        "X_train, y_train = Extract_Resnet18_Features(\"/content/drive/MyDrive/data/hymenoptera_data/train\")"
      ],
      "metadata": {
        "colab": {
          "base_uri": "https://localhost:8080/",
          "height": 154,
          "referenced_widgets": [
            "9ce0b550fa6e4865bbbcdbc782b9080a",
            "db5f2186daa14183983b0b55dc7acf2d",
            "391030c1895e471b9c2352da7d2d7c7f",
            "deb65e641cfc40e8a375241135fbf708",
            "b21a4bfea39243f39ceec9cbedc85db3",
            "82a3fe285ae14f189814f71506a03854",
            "ff7ad7df1c1d45808500f31e11160d8a",
            "ca050a380cc64833a4e39e064b84ade9",
            "c0823f2312934abe86586d91cadd18fa",
            "9f72f4fe2345485ab323070f5ab7813c",
            "12d9be9706c14898a3421d5aa65b82ec"
          ]
        },
        "id": "zv8gYeExr_25",
        "outputId": "81f7e937-5a8f-4328-f8eb-436330a0f305"
      },
      "execution_count": 4,
      "outputs": [
        {
          "output_type": "stream",
          "name": "stderr",
          "text": [
            "/usr/local/lib/python3.9/dist-packages/torchvision/models/_utils.py:208: UserWarning: The parameter 'pretrained' is deprecated since 0.13 and may be removed in the future, please use 'weights' instead.\n",
            "  warnings.warn(\n",
            "/usr/local/lib/python3.9/dist-packages/torchvision/models/_utils.py:223: UserWarning: Arguments other than a weight enum or `None` for 'weights' are deprecated since 0.13 and may be removed in the future. The current behavior is equivalent to passing `weights=ResNet18_Weights.IMAGENET1K_V1`. You can also use `weights=ResNet18_Weights.DEFAULT` to get the most up-to-date weights.\n",
            "  warnings.warn(msg)\n",
            "Downloading: \"https://download.pytorch.org/models/resnet18-f37072fd.pth\" to /root/.cache/torch/hub/checkpoints/resnet18-f37072fd.pth\n"
          ]
        },
        {
          "output_type": "display_data",
          "data": {
            "text/plain": [
              "  0%|          | 0.00/44.7M [00:00<?, ?B/s]"
            ],
            "application/vnd.jupyter.widget-view+json": {
              "version_major": 2,
              "version_minor": 0,
              "model_id": "9ce0b550fa6e4865bbbcdbc782b9080a"
            }
          },
          "metadata": {}
        }
      ]
    },
    {
      "cell_type": "code",
      "source": [
        "# Conerting the features extacted to a Pandas DataFrame\n",
        "import pandas as pd\n",
        "\n",
        "X_train = pd.DataFrame(X_train)\n",
        "y_train = pd.DataFrame(y_train)\n",
        "X_train.shape, y_train.shape"
      ],
      "metadata": {
        "colab": {
          "base_uri": "https://localhost:8080/"
        },
        "id": "xiFJkFHtuGvF",
        "outputId": "f50e8e4e-f80a-47cd-c942-d0b0aa9a45e4"
      },
      "execution_count": 5,
      "outputs": [
        {
          "output_type": "execute_result",
          "data": {
            "text/plain": [
              "((244, 512), (244, 1))"
            ]
          },
          "metadata": {},
          "execution_count": 5
        }
      ]
    },
    {
      "cell_type": "code",
      "source": [
        "# Extracting the val features\n",
        "X_val, y_val = Extract_Resnet18_Features(\"/content/drive/MyDrive/data/hymenoptera_data/val\")"
      ],
      "metadata": {
        "colab": {
          "base_uri": "https://localhost:8080/"
        },
        "id": "BG3NuN8isDjV",
        "outputId": "7e013dc9-7a13-4954-87ce-5c7de6e8a8d1"
      },
      "execution_count": 6,
      "outputs": [
        {
          "output_type": "stream",
          "name": "stderr",
          "text": [
            "/usr/local/lib/python3.9/dist-packages/torchvision/models/_utils.py:208: UserWarning: The parameter 'pretrained' is deprecated since 0.13 and may be removed in the future, please use 'weights' instead.\n",
            "  warnings.warn(\n",
            "/usr/local/lib/python3.9/dist-packages/torchvision/models/_utils.py:223: UserWarning: Arguments other than a weight enum or `None` for 'weights' are deprecated since 0.13 and may be removed in the future. The current behavior is equivalent to passing `weights=ResNet18_Weights.IMAGENET1K_V1`. You can also use `weights=ResNet18_Weights.DEFAULT` to get the most up-to-date weights.\n",
            "  warnings.warn(msg)\n"
          ]
        }
      ]
    },
    {
      "cell_type": "code",
      "source": [
        "# Conerting them to the Data Frame\n",
        "X_val = pd.DataFrame(X_val)\n",
        "y_val = pd.DataFrame(y_val)\n",
        "X_val.shape, y_val.shape"
      ],
      "metadata": {
        "colab": {
          "base_uri": "https://localhost:8080/"
        },
        "id": "w0ZgTTgewOto",
        "outputId": "9ae9a0cd-1e33-473f-f175-d54c7a2bb47c"
      },
      "execution_count": 7,
      "outputs": [
        {
          "output_type": "execute_result",
          "data": {
            "text/plain": [
              "((153, 512), (153, 1))"
            ]
          },
          "metadata": {},
          "execution_count": 7
        }
      ]
    },
    {
      "cell_type": "markdown",
      "source": [
        "11. Compare L2 regularized logistic regression, RBF kernel SVM (do grid search on kernel width and regularization), and random forest (do grid search on max depth and number of trees). Test the final model on test data and show the results -- accuracy and F1 score. [3]"
      ],
      "metadata": {
        "id": "38aX2-w2wvyq"
      }
    },
    {
      "cell_type": "markdown",
      "source": [
        "L2 regularized logistic regression model on the extracted ResNet18 features"
      ],
      "metadata": {
        "id": "OhNKBKWkw-Mf"
      }
    },
    {
      "cell_type": "code",
      "source": [
        "# we can now apply L2 Log Regression to classify images \n",
        "\n",
        "from sklearn.linear_model import LogisticRegression\n",
        "from sklearn.metrics import accuracy_score\n",
        "from sklearn.metrics import classification_report\n",
        "from sklearn.metrics import confusion_matrix\n",
        "import matplotlib.pyplot as plt\n",
        "import seaborn as sns\n",
        "\n",
        "# define L2 Log Regression & apply on train set\n",
        "L2_LR = LogisticRegression(penalty=\"l2\", C=1.0, max_iter=1000)\n",
        "L2_LR.fit(X_train, np.ravel(y_train))\n",
        "\n",
        "# predict the perfoemnce on val set\n",
        "y_pred = L2_LR.predict(X_val)\n",
        "acc = accuracy_score(y_val, y_pred)\n",
        "\n",
        "# the accuracy, calassificatio report, confusoin matrix are plotted as follows\n",
        "print(f\"Validation accuracy: {acc:.4f}\")\n",
        "print(classification_report(y_val, y_pred))\n",
        "\n",
        "cm = confusion_matrix(y_val, y_pred)\n",
        "sns.heatmap(cm, annot=True, cmap=\"Blues\", fmt=\"d\")\n",
        "plt.xlabel(\"Predicted Labels\")\n",
        "plt.ylabel(\"True Labels\")\n",
        "plt.show()"
      ],
      "metadata": {
        "colab": {
          "base_uri": "https://localhost:8080/",
          "height": 453
        },
        "id": "Llt07bXhZISS",
        "outputId": "40cd4bea-5a6d-481b-ba56-283f4f8bf1a5"
      },
      "execution_count": 8,
      "outputs": [
        {
          "output_type": "stream",
          "name": "stdout",
          "text": [
            "Validation accuracy: 0.9673\n",
            "              precision    recall  f1-score   support\n",
            "\n",
            "           0       0.96      0.97      0.96        70\n",
            "           1       0.98      0.96      0.97        83\n",
            "\n",
            "    accuracy                           0.97       153\n",
            "   macro avg       0.97      0.97      0.97       153\n",
            "weighted avg       0.97      0.97      0.97       153\n",
            "\n"
          ]
        },
        {
          "output_type": "display_data",
          "data": {
            "text/plain": [
              "<Figure size 432x288 with 2 Axes>"
            ],
            "image/png": "[encoded data removed]"
          },
          "metadata": {
            "needs_background": "light"
          }
        }
      ]
    },
    {
      "cell_type": "markdown",
      "source": [
        "RBF kernel SVM (do grid search on kernel width and regularization),"
      ],
      "metadata": {
        "id": "_RFYbTyBzdKx"
      }
    },
    {
      "cell_type": "code",
      "source": [
        "from sklearn.svm import SVC\n",
        "from sklearn.model_selection import GridSearchCV\n",
        "\n",
        "param_grid = {\n",
        "    \"C\": [0.001, 0.01, 0.1, 0.5, 0.1],\n",
        "    \"gamma\": [0.001, 0.01, 0.1, 0.5, 1.0],\n",
        "}\n",
        "\n",
        "# Defien the SVM Classifier\n",
        "RBF_SVM = SVC(kernel=\"rbf\")\n",
        "\n",
        "# Perform Grid Search \n",
        "grid = GridSearchCV(RBF_SVM, param_grid, cv=5, n_jobs=-1)\n",
        "grid.fit(X_train,  np.ravel(y_train))\n",
        "\n",
        "\n",
        "# Evaluate the RBF Kernel SVM on the validation set\n",
        "y_pred = grid.predict(X_val)\n",
        "acc = accuracy_score(y_val, y_pred)\n",
        "\n",
        "# the best params, accuracy, calassificatio report, confusoin matrix are plotted as follows\n",
        "print(f\"Best parameters: {grid.best_params_}\")\n",
        "print(f\"Validation accuracy: {acc:.4f}\")\n",
        "print(classification_report(y_val, y_pred))\n",
        "\n",
        "cm = confusion_matrix(y_val, y_pred)\n",
        "sns.heatmap(cm, annot=True, cmap=\"Blues\", fmt=\"d\")\n",
        "plt.xlabel(\"Predicted Labels\")\n",
        "plt.ylabel(\"True Labels\")\n",
        "plt.show()"
      ],
      "metadata": {
        "colab": {
          "base_uri": "https://localhost:8080/",
          "height": 466
        },
        "id": "8zr0LZizzfFt",
        "outputId": "805b9203-2233-4417-e95a-972cb886a31b"
      },
      "execution_count": 9,
      "outputs": [
        {
          "output_type": "stream",
          "name": "stdout",
          "text": [
            "Best parameters: {'C': 0.1, 'gamma': 0.001}\n",
            "Validation accuracy: 0.9542\n",
            "              precision    recall  f1-score   support\n",
            "\n",
            "           0       0.93      0.97      0.95        70\n",
            "           1       0.97      0.94      0.96        83\n",
            "\n",
            "    accuracy                           0.95       153\n",
            "   macro avg       0.95      0.96      0.95       153\n",
            "weighted avg       0.96      0.95      0.95       153\n",
            "\n"
          ]
        },
        {
          "output_type": "display_data",
          "data": {
            "text/plain": [
              "<Figure size 432x288 with 2 Axes>"
            ],
            "image/png": "[encoded data removed]"
          },
          "metadata": {
            "needs_background": "light"
          }
        }
      ]
    },
    {
      "cell_type": "markdown",
      "source": [
        "Random forest (do grid search on max depth and number of trees)."
      ],
      "metadata": {
        "id": "oPSf7rcN1GWY"
      }
    },
    {
      "cell_type": "code",
      "source": [
        "from sklearn.ensemble import RandomForestClassifier\n",
        "\n",
        "param_grid = {'max_depth': [10, 20, 30, 40, 50],\n",
        "              'n_estimators': [50, 100, 150, 200, 250]}\n",
        "\n",
        "# Define the random forest classifier\n",
        "RFC = RandomForestClassifier(random_state=42)\n",
        "\n",
        "# Perform grid search to find the best hyperparameters\n",
        "grid = GridSearchCV(RFC, param_grid=param_grid, cv=5)\n",
        "grid.fit(X_train, np.ravel(y_train))\n",
        "\n",
        "# Evaluate the random forest classifier on the validation set\n",
        "y_pred = grid.predict(X_val)\n",
        "acc = accuracy_score(y_val, y_pred)\n",
        "\n",
        "# the best params, accuracy, calassificatio report, confusoin matrix are plotted as follows\n",
        "print(f\"Best parameters: {grid.best_params_}\")\n",
        "print(f\"Validation accuracy: {acc:.4f}\")\n",
        "print(classification_report(y_val, y_pred))\n",
        "\n",
        "cm = confusion_matrix(y_val, y_pred)\n",
        "sns.heatmap(cm, annot=True, cmap=\"Blues\", fmt=\"d\")\n",
        "plt.xlabel(\"Predicted Labels\")\n",
        "plt.ylabel(\"True Labels\")\n",
        "plt.show()"
      ],
      "metadata": {
        "colab": {
          "base_uri": "https://localhost:8080/",
          "height": 466
        },
        "id": "Dha9euqt1GqO",
        "outputId": "7b5cfbfa-e89f-4e55-c541-b5a96595461f"
      },
      "execution_count": 10,
      "outputs": [
        {
          "output_type": "stream",
          "name": "stdout",
          "text": [
            "Best parameters: {'max_depth': 10, 'n_estimators': 200}\n",
            "Validation accuracy: 0.9412\n",
            "              precision    recall  f1-score   support\n",
            "\n",
            "           0       0.94      0.93      0.94        70\n",
            "           1       0.94      0.95      0.95        83\n",
            "\n",
            "    accuracy                           0.94       153\n",
            "   macro avg       0.94      0.94      0.94       153\n",
            "weighted avg       0.94      0.94      0.94       153\n",
            "\n"
          ]
        },
        {
          "output_type": "display_data",
          "data": {
            "text/plain": [
              "<Figure size 432x288 with 2 Axes>"
            ],
            "image/png": "[encoded data removed]"
          },
          "metadata": {
            "needs_background": "light"
          }
        }
      ]
    },
    {
      "cell_type": "markdown",
      "source": [
        "12. Summarize your findings and write your references. [2]"
      ],
      "metadata": {
        "id": "u1zqTek_n1D5"
      }
    },
    {
      "cell_type": "markdown",
      "source": [
        "\n",
        "Findings\n",
        "\n",
        "The features with misisng values in the dataste must be droped or imputed if fewer in nunmber.\n",
        "\n",
        "The featuers that dont show any signiifant variance  throughout the dastaset ca n alos be dropped from the model.\n",
        "\n",
        "Simlarly teh features that are hihgly interdependent, which ahve a high covariacne are also dropped in the process.\n",
        "\n",
        "Subsequenty the labesl are encoded & the data is normalized using Standard Scalsaer or Min Max Scaler\n",
        "\n",
        "Cross validation usng Grid Searhc was perfoemd on the part og the training dataset to find the best hyperparams on whuch teh entire model was then trainde.\n",
        "\n",
        "Feature Importnacme was use d to find the relative impotrncaec of the featiues in each model. \n",
        "It can be observed that differnt featiures are imptortatn for differnety calassisficaton tasks. \n",
        "However for the same classification tasks across differmet models some of the imorptant features may be commmon. \n",
        "\n",
        "RFECV was perfomred on the Linear SVM and Random Forest to eliminate the features recurively that dont have significant contribution to the accuracy.\n",
        "\n",
        "While for the RBF Kernel SVM and Neural Network, RFECV can not as such be used, as none of these estimators have an underlying coefficient or feature importnmce metric.\n",
        "\n",
        "Hence for RBF Kernel SVM and Neural Networks the important features are selected as returned by the Feature Importance evaluation performed using Permutation Importance.\n",
        "\n",
        "Later on the selected features either from RFECV or permutaion importamce, new models are trained and tested.\n",
        "\n",
        "These models built on fewer features show similar or better performace to those tested earlier on the larger set of features.\n",
        "\n",
        "\n",
        "Feature Extarctoin from images was performed using resnet, by doing a forwaxd pass thriugh a trained resnet 18 model.\n",
        "The last layer in the model is removed to extract the 512 featurds corresponfing to the image.\n",
        "\n",
        "The same is performed on all the images in the train & val set.\n",
        "The features are stored along with labels in a datatfraem on which difefrmt models are appleid to perform d the classificton task rwquired.\n",
        "\n",
        "The clssificatojn task perforemd was done with grid search to look for the best params on hich teh mdoel was then trained. \n",
        "\n",
        "All gthe models were followed by a classificatioknn report and a confusion matric x to understand the perfromance og f the Classifiction model.\n",
        "\n",
        "\n",
        "References.\n",
        "\n",
        "1. 6.4. Imputation of missing values¶ https://scikit-learn.org/stable/modules/impute.html\n",
        "\n",
        "2. Recursive Feature Elimination using sklearn.feature_selection.RFECV¶  https://scikit-learn.org/stable/modules/generated/sklearn.feature_selection.RFECV.html\n",
        "\n",
        "3. TRANSFER LEARNING FOR COMPUTER VISION TUTORIAL https://pytorch.org/tutorials/beginner/transfer_learning_tutorial.html \n",
        "\n",
        "4. Exploratory Data Analysis(EDA): Python https://towardsdatascience.com/exploratory-data-analysis-eda-python-87178e35b14\n",
        "\n",
        "5. How to identify the right independent variables for Machine Learning Supervised Algorithms? https://towardsdatascience.com/how-to-identify-the-right-independent-variables-for-machine-learning-supervised-algorithms-439986562d32"
      ],
      "metadata": {
        "id": "tx4eRpmdn3q4"
      }
    }
  ]
}